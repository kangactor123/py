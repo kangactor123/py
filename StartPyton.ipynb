{
  "nbformat": 4,
  "nbformat_minor": 0,
  "metadata": {
    "colab": {
      "provenance": [],
      "authorship_tag": "ABX9TyN2WkEzmxR45F1GphvxbLL+",
      "include_colab_link": true
    },
    "kernelspec": {
      "name": "python3",
      "display_name": "Python 3"
    },
    "language_info": {
      "name": "python"
    }
  },
  "cells": [
    {
      "cell_type": "markdown",
      "metadata": {
        "id": "view-in-github",
        "colab_type": "text"
      },
      "source": [
        "<a href=\"https://colab.research.google.com/github/kangactor123/py/blob/main/StartPyton.ipynb\" target=\"_parent\"><img src=\"https://colab.research.google.com/assets/colab-badge.svg\" alt=\"Open In Colab\"/></a>"
      ]
    },
    {
      "cell_type": "code",
      "execution_count": 2,
      "metadata": {
        "colab": {
          "base_uri": "https://localhost:8080/"
        },
        "id": "S1mawRivwCPz",
        "outputId": "763d3b53-875f-454d-a866-65bcccb60a1e"
      },
      "outputs": [
        {
          "output_type": "stream",
          "name": "stdout",
          "text": [
            "this is print\n"
          ]
        }
      ],
      "source": [
        "print(\"this\" + \" is print\")"
      ]
    },
    {
      "cell_type": "markdown",
      "source": [
        "## 숫자\n",
        "- 정수: int(소수점이 없는 숫자)\n",
        "- 실수: float(소수점이 있는 숫자)\n",
        "\n",
        "## 문자\n",
        "- 유니코드 기반 문자 또는 문자열\n",
        "- 인용부호 \" 또는 '를 사용하여 표현\n",
        "- 문자가 하나이든 여러개이든 문자타입임\n",
        "\n",
        "## 기본연산자와 표현식\n",
        "- 피연산자와 연산자를 이용한 표현식은 파이썬 인터프리터에 의해 자동 계산\n",
        "\n",
        "## 함수 (def)\n",
        "- 특정 작업을 수행하는 코드의 집합으로 함수의 이름만으로 실행할 수 있는 단위\n",
        "\n",
        "## 들여쓰기\n",
        "- 파이썬은 들여쓰기에 의존적 언어\n",
        "- 파이썬에서 코드의 논리적 집합인 블록을 표현\n",
        "- 들여쓰기는 스페이스 4칸을 권장\n",
        "- 블록 중첩 시 추가적인 4칸 들여쓰기 삽입\n",
        "\n",
        "## 문서화\n",
        "- 주석 사용 (가독성 증대로 개발 속도 향상, 유지보수 용이)\n",
        "- 주석 종류 (한 라인 주석에 #을 사용, 여러 라인 주석에 \"\"\" 또는 ''' 3개를 연달아 사용)\n"
      ],
      "metadata": {
        "id": "voLRwDYiwJre"
      }
    }
  ]
}