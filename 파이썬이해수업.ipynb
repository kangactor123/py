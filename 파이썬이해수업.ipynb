{
  "nbformat": 4,
  "nbformat_minor": 0,
  "metadata": {
    "colab": {
      "provenance": [],
      "authorship_tag": "ABX9TyOrVCJqo7Ar22VfY/SwWUAR",
      "include_colab_link": true
    },
    "kernelspec": {
      "name": "python3",
      "display_name": "Python 3"
    },
    "language_info": {
      "name": "python"
    }
  },
  "cells": [
    {
      "cell_type": "markdown",
      "metadata": {
        "id": "view-in-github",
        "colab_type": "text"
      },
      "source": [
        "<a href=\"https://colab.research.google.com/github/kangactor123/py/blob/main/%ED%8C%8C%EC%9D%B4%EC%8D%AC%EC%9D%B4%ED%95%B4%EC%88%98%EC%97%85.ipynb\" target=\"_parent\"><img src=\"https://colab.research.google.com/assets/colab-badge.svg\" alt=\"Open In Colab\"/></a>"
      ]
    },
    {
      "cell_type": "code",
      "execution_count": null,
      "metadata": {
        "colab": {
          "base_uri": "https://localhost:8080/"
        },
        "id": "7VwZHHofhuUE",
        "outputId": "76dc2f23-05cc-4def-fac7-015069d61540"
      },
      "outputs": [
        {
          "output_type": "stream",
          "name": "stdout",
          "text": [
            "11\n",
            "this in\n",
            "입력:3\n",
            "b입력:4\n",
            "2\n"
          ]
        }
      ],
      "source": [
        "a = 1\n",
        "sum = 10\n",
        "ss = sum + a\n",
        "print(ss)\n",
        "\n",
        "if 3 in [1,3,4]: print(\"this in\")\n",
        "\n",
        "n = int(input(\"입력:\"))\n",
        "sum = 0\n",
        "# for i in range(1, n+1)\n",
        "#   sum += i\n",
        "\n",
        "# print(\"합은\" + sum)\n",
        "\n",
        "b = int(input(\"b입력:\"))\n",
        "\n",
        "if (b == 10):\n",
        "  print(\"1\")\n",
        "else:\n",
        "  print(\"2\")"
      ]
    },
    {
      "cell_type": "code",
      "source": [
        "a = int(input(\"10진 정수를 입력해주세요: \"))\n",
        "if (a > 0):\n",
        "  print(\"양수입니다.\")\n",
        "else:\n",
        "  print(\"음수입니다\")\n",
        "\n",
        "if (a%2 == 1):\n",
        "  print(\"홀수입니다\")\n",
        "else:\n",
        "  print(\"짝수입니다.\")"
      ],
      "metadata": {
        "colab": {
          "base_uri": "https://localhost:8080/"
        },
        "id": "z_RlBy6c5LQK",
        "outputId": "160de18f-7c1d-42b0-aaab-9a62e54afc70"
      },
      "execution_count": null,
      "outputs": [
        {
          "output_type": "stream",
          "name": "stdout",
          "text": [
            "10진 정수를 입력해주세요: 3\n",
            "양수입니다.\n",
            "홀수입니다\n"
          ]
        }
      ]
    },
    {
      "cell_type": "code",
      "source": [
        "score = int(input(\"점수를 입력해주세요: \"))\n",
        "\n",
        "if (score >= 90):\n",
        "  grade = \"A\"\n",
        "elif (score >= 80):\n",
        "  grade = \"B\"\n",
        "elif (score >= 70):\n",
        "  grade = \"C\"\n",
        "elif (score >= 60):\n",
        "  grade = \"D\"\n",
        "else:\n",
        "  grade = \"F\"\n",
        "print(\"당신의 학점은 %c 학점 입니다\" % grade)"
      ],
      "metadata": {
        "colab": {
          "base_uri": "https://localhost:8080/"
        },
        "id": "iQ0JPQZg548Y",
        "outputId": "7ea0350f-0c33-4a21-dfd2-40f9f112235a"
      },
      "execution_count": null,
      "outputs": [
        {
          "output_type": "stream",
          "name": "stdout",
          "text": [
            "점수를 입력해주세요: 51\n",
            "당신의 학점은 F 학점 입니다\u001c\n"
          ]
        }
      ]
    },
    {
      "cell_type": "code",
      "source": [
        "rad = int(input(\"반지름을 입력하세요:\"))\n",
        "hei = int(input(\"높이를 입력하세요:\"))\n",
        "vol = 1/3 * 3.14 * rad ** 2 * hei"
      ],
      "metadata": {
        "colab": {
          "base_uri": "https://localhost:8080/"
        },
        "id": "LAxpGgnR7LKX",
        "outputId": "1bfa9f67-3c00-461b-c2f9-fa1bbf1d7b7b"
      },
      "execution_count": null,
      "outputs": [
        {
          "name": "stdout",
          "output_type": "stream",
          "text": [
            "반지름을 입력하세요:3\n",
            "높이를 입력하세요:3\n"
          ]
        }
      ]
    },
    {
      "cell_type": "code",
      "source": [
        "list = [1,2,3,4,5]\n",
        "\n",
        "# for i in list:\n",
        "#   print(\"%d 입니다.\"% i)\n",
        "\n",
        "print(list[0], len(list))\n",
        "for i in range(list[0], len(list)):\n",
        "  print(\"%d 입니다.\"% i)"
      ],
      "metadata": {
        "colab": {
          "base_uri": "https://localhost:8080/"
        },
        "id": "f5CA1axM4PUs",
        "outputId": "67aca76b-a5d7-4035-b182-dcb56fef0aba"
      },
      "execution_count": null,
      "outputs": [
        {
          "output_type": "stream",
          "name": "stdout",
          "text": [
            "1 5\n",
            "1 입니다.\n",
            "2 입니다.\n",
            "3 입니다.\n",
            "4 입니다.\n"
          ]
        }
      ]
    },
    {
      "cell_type": "code",
      "source": [
        "a = int(input(\"정수를 입력해주세요: \"))\n",
        "b = int(input(\"정수를 입력해주세요: \"))\n",
        "sum = a + b\n",
        "print(\"입력한 두 수의 합은: %d\" % sum)"
      ],
      "metadata": {
        "id": "gMqp2X9SpsjO",
        "colab": {
          "base_uri": "https://localhost:8080/"
        },
        "outputId": "8a9186af-daaa-45a8-e302-dd1446d2a674"
      },
      "execution_count": null,
      "outputs": [
        {
          "output_type": "stream",
          "name": "stdout",
          "text": [
            "정수를 입력해주세요: 10\n",
            "정수를 입력해주세요: 3\n",
            "입력한 두 수의 합은: 13\n"
          ]
        }
      ]
    },
    {
      "cell_type": "markdown",
      "source": [
        "print 함수의 확장\n",
        "- 콤파로 파라미터를 구분하여 입력\n",
        "- 데이터 사이에 공백이 자동으로 추가\n",
        "- sep 옵션을 변경하여 공백 변경 가능"
      ],
      "metadata": {
        "id": "c2fr5SR4Uy-r"
      }
    },
    {
      "cell_type": "code",
      "source": [
        "# 삼각형 출력하기\n",
        "for i in range(0, 10):\n",
        "  if (i == 1):\n",
        "    print(\"   *\")\n",
        "  elif (i == 3):\n",
        "    print(\"  ***\")\n",
        "  elif (i == 5):\n",
        "    print(\"*******\")\n"
      ],
      "metadata": {
        "colab": {
          "base_uri": "https://localhost:8080/"
        },
        "id": "M2g-Dn0LUuni",
        "outputId": "6bf17d25-09a2-4fbf-af32-60cff64a6dfb"
      },
      "execution_count": null,
      "outputs": [
        {
          "output_type": "stream",
          "name": "stdout",
          "text": [
            "   *\n",
            "  ***\n",
            "*******\n"
          ]
        }
      ]
    },
    {
      "cell_type": "markdown",
      "source": [
        "선택구조\n",
        "```\n",
        "if cond:\n",
        "  body\n",
        "```\n",
        "논리연산자\n",
        "- 참 거짓을 구별할 수 있는 명제를 대상으로 명제의 집합을 위해 고안한 연산자"
      ],
      "metadata": {
        "id": "x4dpx8Pz7DL1"
      }
    },
    {
      "cell_type": "code",
      "source": [
        "a = int(input(\"수를 입력하세요: \"))\n",
        "if (a % 2 == 1):\n",
        "  print(\"홀수입니다\")\n",
        "else:\n",
        "  print(\"짝수입니다\")\n",
        "\n",
        "b = int(input(\"수를 입력해주세요: \"))\n",
        "if (b % 3 == 0 & b % 5 == 0):\n",
        "  print(\"3과 5의 공배수입니다\")\n",
        "else:\n",
        "  print(\"공배수가 아닙니다.\")"
      ],
      "metadata": {
        "colab": {
          "base_uri": "https://localhost:8080/"
        },
        "id": "tnkHCYAh7C7K",
        "outputId": "19608def-d697-4f5f-c484-80acb324b905"
      },
      "execution_count": 5,
      "outputs": [
        {
          "output_type": "stream",
          "name": "stdout",
          "text": [
            "수를 입력하세요: 3\n",
            "홀수입니다\n",
            "수를 입력해주세요: 15\n",
            "3과 5의 공배수입니다\n"
          ]
        }
      ]
    }
  ]
}